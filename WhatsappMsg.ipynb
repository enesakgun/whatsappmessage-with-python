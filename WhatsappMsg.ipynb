{
 "cells": [
  {
   "cell_type": "code",
   "execution_count": 1,
   "id": "e0aa8d51",
   "metadata": {
    "scrolled": true
   },
   "outputs": [
    {
     "name": "stdout",
     "output_type": "stream",
     "text": [
      "Collecting pywhatkit\n",
      "  Downloading pywhatkit-5.3-py3-none-any.whl (15 kB)\n",
      "Requirement already satisfied: Pillow in c:\\users\\enesa\\anaconda3\\lib\\site-packages (from pywhatkit) (8.4.0)\n",
      "Collecting wikipedia\n",
      "  Downloading wikipedia-1.4.0.tar.gz (27 kB)\n",
      "Requirement already satisfied: pyautogui in c:\\users\\enesa\\anaconda3\\lib\\site-packages (from pywhatkit) (0.9.53)\n",
      "Requirement already satisfied: requests in c:\\users\\enesa\\anaconda3\\lib\\site-packages (from pywhatkit) (2.26.0)\n",
      "Requirement already satisfied: pygetwindow>=0.0.5 in c:\\users\\enesa\\anaconda3\\lib\\site-packages (from pyautogui->pywhatkit) (0.0.9)\n",
      "Requirement already satisfied: pymsgbox in c:\\users\\enesa\\anaconda3\\lib\\site-packages (from pyautogui->pywhatkit) (1.0.9)\n",
      "Requirement already satisfied: pyscreeze>=0.1.21 in c:\\users\\enesa\\anaconda3\\lib\\site-packages (from pyautogui->pywhatkit) (0.1.28)\n",
      "Requirement already satisfied: PyTweening>=1.0.1 in c:\\users\\enesa\\anaconda3\\lib\\site-packages (from pyautogui->pywhatkit) (1.0.4)\n",
      "Requirement already satisfied: mouseinfo in c:\\users\\enesa\\anaconda3\\lib\\site-packages (from pyautogui->pywhatkit) (0.1.3)\n",
      "Requirement already satisfied: pyrect in c:\\users\\enesa\\anaconda3\\lib\\site-packages (from pygetwindow>=0.0.5->pyautogui->pywhatkit) (0.2.0)\n",
      "Requirement already satisfied: pyperclip in c:\\users\\enesa\\anaconda3\\lib\\site-packages (from mouseinfo->pyautogui->pywhatkit) (1.8.2)\n",
      "Requirement already satisfied: certifi>=2017.4.17 in c:\\users\\enesa\\anaconda3\\lib\\site-packages (from requests->pywhatkit) (2021.10.8)\n",
      "Requirement already satisfied: idna<4,>=2.5 in c:\\users\\enesa\\anaconda3\\lib\\site-packages (from requests->pywhatkit) (3.2)\n",
      "Requirement already satisfied: urllib3<1.27,>=1.21.1 in c:\\users\\enesa\\anaconda3\\lib\\site-packages (from requests->pywhatkit) (1.26.7)\n",
      "Requirement already satisfied: charset-normalizer~=2.0.0 in c:\\users\\enesa\\anaconda3\\lib\\site-packages (from requests->pywhatkit) (2.0.4)\n",
      "Requirement already satisfied: beautifulsoup4 in c:\\users\\enesa\\anaconda3\\lib\\site-packages (from wikipedia->pywhatkit) (4.10.0)\n",
      "Requirement already satisfied: soupsieve>1.2 in c:\\users\\enesa\\anaconda3\\lib\\site-packages (from beautifulsoup4->wikipedia->pywhatkit) (2.2.1)\n",
      "Building wheels for collected packages: wikipedia\n",
      "  Building wheel for wikipedia (setup.py): started\n",
      "  Building wheel for wikipedia (setup.py): finished with status 'done'\n",
      "  Created wheel for wikipedia: filename=wikipedia-1.4.0-py3-none-any.whl size=11696 sha256=51c94ef484f5c4d950686b49e16ad7a1559549af18b534cce5d374bd76cc4db5\n",
      "  Stored in directory: c:\\users\\enesa\\appdata\\local\\pip\\cache\\wheels\\c2\\46\\f4\\caa1bee71096d7b0cdca2f2a2af45cacf35c5760bee8f00948\n",
      "Successfully built wikipedia\n",
      "Installing collected packages: wikipedia, pywhatkit\n",
      "Successfully installed pywhatkit-5.3 wikipedia-1.4.0\n"
     ]
    }
   ],
   "source": [
    "!pip install pywhatkit"
   ]
  },
  {
   "cell_type": "code",
   "execution_count": 3,
   "id": "1cc9be0f",
   "metadata": {},
   "outputs": [
    {
     "name": "stdout",
     "output_type": "stream",
     "text": [
      "In 21 Seconds WhatsApp will open and after 15 Seconds Message will be Delivered!\n"
     ]
    }
   ],
   "source": [
    "import pywhatkit as pwt\n",
    "pwt.sendwhatmsg(\"+905334789340\",\"DENEME\",10,22) "
   ]
  },
  {
   "cell_type": "code",
   "execution_count": 9,
   "id": "0d3c7cc4",
   "metadata": {},
   "outputs": [
    {
     "data": {
      "text/plain": [
       "'clear sky'"
      ]
     },
     "execution_count": 9,
     "metadata": {},
     "output_type": "execute_result"
    }
   ],
   "source": [
    "#!pip install keyboard\n",
    "import requests\n",
    "import urllib3\n",
    "urllib3.disable_warnings(urllib3.exceptions.InsecureRequestWarning)\n",
    "ID = 745042\n",
    "url = \"https://api.openweathermap.org/data/2.5/weather\"\n",
    "apikey='5ef262979b60eaa0eaf1508b84ba5069'\n",
    "#?id=315202&appid=97afb3c84a9f644b9bd5b9586ea5497a&units=metric\"\n",
    "query_params = {'id':ID,'appid':apikey,'units':'metric'}\n",
    "response = requests.get(url,params=query_params,verify=False)\n",
    "#response.json()['main']['temp']\n",
    "response.json()\n",
    "response.json()['weather'][0]['description']"
   ]
  },
  {
   "cell_type": "code",
   "execution_count": 6,
   "id": "2bbc0697",
   "metadata": {},
   "outputs": [
    {
     "name": "stdout",
     "output_type": "stream",
     "text": [
      "In 20 Seconds WhatsApp will open and after 15 Seconds Message will be Delivered!\n"
     ]
    },
    {
     "ename": "AttributeError",
     "evalue": "'datetime.datetime' object has no attribute 'sleep'",
     "output_type": "error",
     "traceback": [
      "\u001b[1;31m---------------------------------------------------------------------------\u001b[0m",
      "\u001b[1;31mAttributeError\u001b[0m                            Traceback (most recent call last)",
      "\u001b[1;32m~\\AppData\\Local\\Temp/ipykernel_4280/2941461270.py\u001b[0m in \u001b[0;36m<module>\u001b[1;34m\u001b[0m\n\u001b[0;32m     16\u001b[0m \u001b[0mpwt\u001b[0m\u001b[1;33m.\u001b[0m\u001b[0msendwhatmsg\u001b[0m\u001b[1;33m(\u001b[0m\u001b[1;34m\"+905078293991\"\u001b[0m\u001b[1;33m,\u001b[0m \u001b[1;34m'Istanbulda Hava su anda'\u001b[0m\u001b[1;33m+\u001b[0m\u001b[0mstr\u001b[0m\u001b[1;33m(\u001b[0m\u001b[0mresponse\u001b[0m\u001b[1;33m.\u001b[0m\u001b[0mjson\u001b[0m\u001b[1;33m(\u001b[0m\u001b[1;33m)\u001b[0m\u001b[1;33m[\u001b[0m\u001b[1;34m'main'\u001b[0m\u001b[1;33m]\u001b[0m\u001b[1;33m[\u001b[0m\u001b[1;34m'temp'\u001b[0m\u001b[1;33m]\u001b[0m\u001b[1;33m)\u001b[0m\u001b[1;33m+\u001b[0m\u001b[1;34m' derecedir'\u001b[0m\u001b[1;33m,\u001b[0m\u001b[0mint\u001b[0m\u001b[1;33m(\u001b[0m\u001b[0msaat\u001b[0m\u001b[1;33m)\u001b[0m\u001b[1;33m,\u001b[0m\u001b[0mint\u001b[0m\u001b[1;33m(\u001b[0m\u001b[0mdakika\u001b[0m\u001b[1;33m)\u001b[0m\u001b[1;33m)\u001b[0m\u001b[1;33m\u001b[0m\u001b[1;33m\u001b[0m\u001b[0m\n\u001b[0;32m     17\u001b[0m \u001b[0mpyautogui\u001b[0m\u001b[1;33m.\u001b[0m\u001b[0mclick\u001b[0m\u001b[1;33m(\u001b[0m\u001b[1;36m1050\u001b[0m\u001b[1;33m,\u001b[0m \u001b[1;36m950\u001b[0m\u001b[1;33m)\u001b[0m\u001b[1;33m\u001b[0m\u001b[1;33m\u001b[0m\u001b[0m\n\u001b[1;32m---> 18\u001b[1;33m \u001b[0mtime\u001b[0m\u001b[1;33m.\u001b[0m\u001b[0msleep\u001b[0m\u001b[1;33m(\u001b[0m\u001b[1;36m2\u001b[0m\u001b[1;33m)\u001b[0m\u001b[1;33m\u001b[0m\u001b[1;33m\u001b[0m\u001b[0m\n\u001b[0m\u001b[0;32m     19\u001b[0m \u001b[0mk\u001b[0m\u001b[1;33m.\u001b[0m\u001b[0mpress_and_release\u001b[0m\u001b[1;33m(\u001b[0m\u001b[1;34m'enter'\u001b[0m\u001b[1;33m)\u001b[0m\u001b[1;33m\u001b[0m\u001b[1;33m\u001b[0m\u001b[0m\n",
      "\u001b[1;31mAttributeError\u001b[0m: 'datetime.datetime' object has no attribute 'sleep'"
     ]
    }
   ],
   "source": [
    "import pywhatkit as pwt\n",
    "import time\n",
    "import pyautogui\n",
    "import keyboard as k\n",
    "import requests\n",
    "import urllib3\n",
    "from PIL import Image\n",
    "import datetime\n",
    "\n",
    "time=datetime.datetime.now() + datetime.timedelta(minutes = 1)\n",
    "#time=datetime.datetime.now().strftime(\"%M\")\n",
    "#zaman=int(time)+1\n",
    "dakika=time.strftime(\"%M\")\n",
    "saat=time.strftime(\"%H\")\n",
    "pwt.sendwhatmsg(\"+905078293991\", 'Istanbulda Hava su anda '+str(response.json()['main']['temp'])+' derecedir',int(saat),int(dakika))\n",
    "pyautogui.click(1050, 950)\n",
    "time.sleep(2)\n",
    "k.press_and_release('enter')"
   ]
  },
  {
   "cell_type": "code",
   "execution_count": 2,
   "id": "a7784d4e",
   "metadata": {},
   "outputs": [
    {
     "name": "stdout",
     "output_type": "stream",
     "text": [
      "^C\n"
     ]
    }
   ],
   "source": [
    "import pywhatkit\n",
    "\n",
    "# Send a WhatsApp Message to a Contact at 1:30 PM\n",
    "pywhatkit.sendwhatmsg(\"+910123456789\", \"Hi\", 13, 30)\n",
    "\n",
    "# Same as above but Closes the Tab in 2 Seconds after Sending the Message\n",
    "pywhatkit.sendwhatmsg(\"+910123456789\", \"Hi\", 13, 30, 15, True, 2)\n",
    "\n",
    "# Send an Image to a Group with the Caption as Hello\n",
    "pywhatkit.sendwhats_image(\"AB123CDEFGHijklmn\", \"Images/Hello.png\", \"Hello\")\n",
    "\n",
    "# Send an Image to a Contact with the no Caption\n",
    "pywhatkit.sendwhats_image(\"+910123456789\", \"Images/Hello.png\")\n",
    "\n",
    "# Send a WhatsApp Message to a Group at 12:00 AM\n",
    "pywhatkit.sendwhatmsg_to_group(\"AB123CDEFGHijklmn\", \"Hey All!\", 0, 0)\n",
    "\n",
    "# Send a WhatsApp Message to a Group instantly\n",
    "pywhatkit.sendwhatmsg_to_group_instantly(\"AB123CDEFGHijklmn\", \"Hey All!\")\n",
    "\n",
    "# Play a Video on YouTube\n",
    "pywhatkit.playonyt(\"PyWhatKit\")"
   ]
  },
  {
   "cell_type": "code",
   "execution_count": null,
   "id": "862004c7",
   "metadata": {},
   "outputs": [
    {
     "name": "stdout",
     "output_type": "stream",
     "text": [
      "In 23665 Seconds WhatsApp will open and after 15 Seconds Message will be Delivered!\n"
     ]
    }
   ],
   "source": [
    "if response.json()['weather'][0]['id']:\n",
    "    filepath = r\"C:\\Users\\EnesA\\Images\\sky.png\"\n",
    "    img = Image.open(filepath)\n",
    "    \n",
    "    pwt.sendwhatmsg(\"+905530832268\", 'Istanbulda Hava su anda acik ve '+str(response.json()['main']['temp'])+' derecedir', 18, 8)\n",
    "    pyautogui.click(1050, 950)\n",
    "    time.sleep(2)\n",
    "    k.press_and_release('enter')        \n",
    "    pwt.sendwhats_image(\"+905530832268\", filepath)"
   ]
  },
  {
   "cell_type": "code",
   "execution_count": 2,
   "id": "b30e7c19",
   "metadata": {},
   "outputs": [],
   "source": [
    "import pywhatkit as pwt\n",
    "import time\n",
    "import pyautogui\n",
    "import keyboard as k\n",
    "import requests\n",
    "import urllib3\n",
    "from PIL import Image"
   ]
  },
  {
   "cell_type": "code",
   "execution_count": 5,
   "id": "a986f4d7",
   "metadata": {},
   "outputs": [],
   "source": [
    "img.show()"
   ]
  },
  {
   "cell_type": "code",
   "execution_count": 7,
   "id": "54384e1e",
   "metadata": {},
   "outputs": [],
   "source": [
    " pwt.sendwhats_image(\"+905300902511\", filepath)"
   ]
  },
  {
   "cell_type": "code",
   "execution_count": 25,
   "id": "1b5f228c",
   "metadata": {},
   "outputs": [
    {
     "name": "stdout",
     "output_type": "stream",
     "text": [
      "33\n",
      "14\n"
     ]
    }
   ],
   "source": [
    "import datetime\n",
    "\n",
    "time=datetime.datetime.now() + datetime.timedelta(minutes = 1)\n",
    "#time=datetime.datetime.now().strftime(\"%M\")\n",
    "#time=datetime.datetime.now().strftime(\"%M\")\n",
    "#zaman=int(time)+1\n",
    "dakika=time.strftime(\"%M\")\n",
    "saat=time.strftime(\"%H\")\n",
    "print(dakika)\n",
    "print(saat)"
   ]
  },
  {
   "cell_type": "code",
   "execution_count": null,
   "id": "4aad769c",
   "metadata": {},
   "outputs": [],
   "source": []
  }
 ],
 "metadata": {
  "kernelspec": {
   "display_name": "Python 3 (ipykernel)",
   "language": "python",
   "name": "python3"
  },
  "language_info": {
   "codemirror_mode": {
    "name": "ipython",
    "version": 3
   },
   "file_extension": ".py",
   "mimetype": "text/x-python",
   "name": "python",
   "nbconvert_exporter": "python",
   "pygments_lexer": "ipython3",
   "version": "3.9.7"
  }
 },
 "nbformat": 4,
 "nbformat_minor": 5
}
